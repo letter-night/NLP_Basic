{
  "nbformat": 4,
  "nbformat_minor": 0,
  "metadata": {
    "colab": {
      "provenance": [],
      "gpuType": "A100"
    },
    "kernelspec": {
      "name": "python3",
      "display_name": "Python 3"
    },
    "language_info": {
      "name": "python"
    },
    "accelerator": "GPU"
  },
  "cells": [
    {
      "cell_type": "markdown",
      "source": [
        "#[01] Bidirectional LSTM - Named Entity Recognition"
      ],
      "metadata": {
        "id": "D0Cx2yCFVOsy"
      }
    },
    {
      "cell_type": "markdown",
      "source": [
        "##(1) Data loading and Tokenizing"
      ],
      "metadata": {
        "id": "gVUC9wjkXL1G"
      }
    },
    {
      "cell_type": "code",
      "source": [
        "import urllib.request\n",
        "import numpy as np\n",
        "from tqdm import tqdm\n",
        "import re\n",
        "from collections import Counter\n",
        "import matplotlib.pyplot as plt\n",
        "from sklearn.model_selection import train_test_split"
      ],
      "metadata": {
        "id": "qLU_UTiADud1"
      },
      "execution_count": 1,
      "outputs": []
    },
    {
      "cell_type": "code",
      "source": [
        "urllib.request.urlretrieve(\"https://raw.githubusercontent.com/ukairia777/tensorflow-nlp-tutorial/main/12.%20RNN%20Sequence%20Labeling/dataset/train.txt\",\n",
        "                           filename=\"train.txt\")"
      ],
      "metadata": {
        "colab": {
          "base_uri": "https://localhost:8080/"
        },
        "id": "jWpPiQWIDubY",
        "outputId": "694c6f21-4c64-4a06-eb67-0606394efaa4"
      },
      "execution_count": 2,
      "outputs": [
        {
          "output_type": "execute_result",
          "data": {
            "text/plain": [
              "('train.txt', <http.client.HTTPMessage at 0x7b3052a25f30>)"
            ]
          },
          "metadata": {},
          "execution_count": 2
        }
      ]
    },
    {
      "cell_type": "code",
      "source": [
        "f = open('train.txt', 'r')\n",
        "tagged_sentences = []\n",
        "sentence = []\n",
        "\n",
        "for line in f:\n",
        "    if len(line)==0 or line.startswith('-DOCSTART') or line[0]==\"\\n\":\n",
        "        if len(sentence) > 0:\n",
        "            tagged_sentences.append(sentence)\n",
        "            sentence = []\n",
        "        continue\n",
        "    splits = line.split(' ')\n",
        "    splits[-1] = re.sub(r'\\n', '', splits[-1])\n",
        "    word = splits[0].lower()\n",
        "    sentence.append([word, splits[-1]])\n",
        "\n",
        "print('Total sample count :', len(tagged_sentences))"
      ],
      "metadata": {
        "colab": {
          "base_uri": "https://localhost:8080/"
        },
        "id": "4QmrVhRcVZRZ",
        "outputId": "d7506915-3f37-4403-aff1-f37ffbdeca1d"
      },
      "execution_count": 3,
      "outputs": [
        {
          "output_type": "stream",
          "name": "stdout",
          "text": [
            "Total sample count : 14041\n"
          ]
        }
      ]
    },
    {
      "cell_type": "code",
      "source": [
        "print(tagged_sentences[0])"
      ],
      "metadata": {
        "colab": {
          "base_uri": "https://localhost:8080/"
        },
        "id": "xMCxfJKTWJJ7",
        "outputId": "4f25d7ab-911e-4ddc-e569-92160eb76899"
      },
      "execution_count": 4,
      "outputs": [
        {
          "output_type": "stream",
          "name": "stdout",
          "text": [
            "[['eu', 'B-ORG'], ['rejects', 'O'], ['german', 'B-MISC'], ['call', 'O'], ['to', 'O'], ['boycott', 'O'], ['british', 'B-MISC'], ['lamb', 'O'], ['.', 'O']]\n"
          ]
        }
      ]
    },
    {
      "cell_type": "code",
      "source": [
        "sentences, ner_tags = [], []\n",
        "for tagged_sentence in tagged_sentences:\n",
        "    sentence, tag_info = zip(*tagged_sentence)\n",
        "    sentences.append(list(sentence))\n",
        "    ner_tags.append(list(tag_info))\n",
        "\n",
        "print(sentences[0])\n",
        "print(ner_tags[0])"
      ],
      "metadata": {
        "colab": {
          "base_uri": "https://localhost:8080/"
        },
        "id": "5YVvjwjdWL8b",
        "outputId": "69919ca1-c0d4-45e6-e78d-2ecab6d2cc9a"
      },
      "execution_count": 5,
      "outputs": [
        {
          "output_type": "stream",
          "name": "stdout",
          "text": [
            "['eu', 'rejects', 'german', 'call', 'to', 'boycott', 'british', 'lamb', '.']\n",
            "['B-ORG', 'O', 'B-MISC', 'O', 'O', 'O', 'B-MISC', 'O', 'O']\n"
          ]
        }
      ]
    },
    {
      "cell_type": "code",
      "source": [
        "print(sentences[12])\n",
        "print(ner_tags[12])"
      ],
      "metadata": {
        "colab": {
          "base_uri": "https://localhost:8080/"
        },
        "id": "BP28SAWAWasj",
        "outputId": "c8a2387d-6ec2-4f50-ecfa-197e04c060b6"
      },
      "execution_count": 6,
      "outputs": [
        {
          "output_type": "stream",
          "name": "stdout",
          "text": [
            "['only', 'france', 'and', 'britain', 'backed', 'fischler', \"'s\", 'proposal', '.']\n",
            "['O', 'B-LOC', 'O', 'B-LOC', 'O', 'B-PER', 'O', 'O', 'O']\n"
          ]
        }
      ]
    },
    {
      "cell_type": "code",
      "source": [
        "X_train, X_test, y_train, y_test = train_test_split(sentences, ner_tags, test_size=.2, random_state=777)"
      ],
      "metadata": {
        "id": "cHVG1HOlWlk6"
      },
      "execution_count": 7,
      "outputs": []
    },
    {
      "cell_type": "code",
      "source": [
        "X_train, X_valid, y_train, y_valid = train_test_split(X_train, y_train, test_size=.2, random_state=777)"
      ],
      "metadata": {
        "id": "LLVlKeeVWrWJ"
      },
      "execution_count": 8,
      "outputs": []
    },
    {
      "cell_type": "code",
      "source": [
        "print('Train data count :', len(X_train))\n",
        "print('Val data count :', len(X_valid))\n",
        "print('Test data count :', len(X_test))\n",
        "print('Train label count :', len(y_train))\n",
        "print('Val label count :', len(y_valid))\n",
        "print('Test label count :', len(y_test))"
      ],
      "metadata": {
        "colab": {
          "base_uri": "https://localhost:8080/"
        },
        "id": "q8KMiEHJWwBy",
        "outputId": "16e3dd50-036c-432c-bf6b-a47a32267130"
      },
      "execution_count": 9,
      "outputs": [
        {
          "output_type": "stream",
          "name": "stdout",
          "text": [
            "Train data count : 8985\n",
            "Val data count : 2247\n",
            "Test data count : 2809\n",
            "Train label count : 8985\n",
            "Val label count : 2247\n",
            "Test label count : 2809\n"
          ]
        }
      ]
    },
    {
      "cell_type": "code",
      "source": [
        "for sent in X_train[:2]:\n",
        "    print(sent)"
      ],
      "metadata": {
        "colab": {
          "base_uri": "https://localhost:8080/"
        },
        "id": "mxZIyrWgXFDb",
        "outputId": "56d4160d-d092-433f-9348-a124e02fa10a"
      },
      "execution_count": 10,
      "outputs": [
        {
          "output_type": "stream",
          "name": "stdout",
          "text": [
            "['young', 'boys', '9', '1', '0', '8', '6', '19', '3']\n",
            "['hentgen', '(', '17-7', ')', 'surrendered', 'just', 'three', 'doubles', 'and', 'a', 'pair', 'of', 'singles', 'in', 'tossing', 'his', 'major-league', 'leading', 'ninth', 'complete', 'game', '.']\n"
          ]
        }
      ]
    },
    {
      "cell_type": "markdown",
      "source": [
        "##(2) Vocab"
      ],
      "metadata": {
        "id": "3qVxiXdAXPgi"
      }
    },
    {
      "cell_type": "code",
      "source": [
        "word_list = []\n",
        "for sent in X_train:\n",
        "    for word in sent:\n",
        "        word_list.append(word)\n",
        "\n",
        "word_counts = Counter(word_list)\n",
        "print('Total word count :', len(word_counts))"
      ],
      "metadata": {
        "colab": {
          "base_uri": "https://localhost:8080/"
        },
        "id": "_kHUBcwoXIyr",
        "outputId": "3eec8d89-01d5-403f-8d67-870ea62748da"
      },
      "execution_count": 11,
      "outputs": [
        {
          "output_type": "stream",
          "name": "stdout",
          "text": [
            "Total word count : 16742\n"
          ]
        }
      ]
    },
    {
      "cell_type": "code",
      "source": [
        "print(\"Frequency of word 'the' in train dataset :\", word_counts['the'])\n",
        "print(\"Frequency of word 'love' in train dataset :\", word_counts['love'])"
      ],
      "metadata": {
        "colab": {
          "base_uri": "https://localhost:8080/"
        },
        "id": "V7DGD8hIXYpJ",
        "outputId": "0204caa9-c893-4d4b-dd6c-f3c8c0c8489b"
      },
      "execution_count": 12,
      "outputs": [
        {
          "output_type": "stream",
          "name": "stdout",
          "text": [
            "Frequency of word 'the' in train dataset : 5410\n",
            "Frequency of word 'love' in train dataset : 7\n"
          ]
        }
      ]
    },
    {
      "cell_type": "code",
      "source": [
        "vocab = sorted(word_counts, key=word_counts.get, reverse=True)\n",
        "print('Most frequent 10 words')\n",
        "print(vocab[:10])"
      ],
      "metadata": {
        "colab": {
          "base_uri": "https://localhost:8080/"
        },
        "id": "v4z1n6AMXjIC",
        "outputId": "b873d9fb-394b-4d03-8e22-978c6fef4bc5"
      },
      "execution_count": 13,
      "outputs": [
        {
          "output_type": "stream",
          "name": "stdout",
          "text": [
            "Most frequent 10 words\n",
            "['the', ',', '.', 'of', 'in', 'to', 'a', ')', '(', 'and']\n"
          ]
        }
      ]
    },
    {
      "cell_type": "code",
      "source": [
        "word_to_index = {}\n",
        "word_to_index['<PAD>'] = 0\n",
        "word_to_index['<UNK>'] = 1\n",
        "\n",
        "for index, word in enumerate(vocab):\n",
        "    word_to_index[word] = index + 2\n",
        "\n",
        "vocab_size = len(word_to_index)\n",
        "print('Vocabulary size with padding & unk tokens :', vocab_size)"
      ],
      "metadata": {
        "colab": {
          "base_uri": "https://localhost:8080/"
        },
        "id": "xBXZSWqkXsBa",
        "outputId": "52c5c92a-7690-491a-ee6b-04dbbc67b6a6"
      },
      "execution_count": 14,
      "outputs": [
        {
          "output_type": "stream",
          "name": "stdout",
          "text": [
            "Vocabulary size with padding & unk tokens : 16744\n"
          ]
        }
      ]
    },
    {
      "cell_type": "code",
      "source": [
        "print('word <PAD> index :', word_to_index['<PAD>'])\n",
        "print('word <UNK> index :', word_to_index['<UNK>'])\n",
        "print(\"word 'the' index :\", word_to_index['the'])"
      ],
      "metadata": {
        "colab": {
          "base_uri": "https://localhost:8080/"
        },
        "id": "6BTptNFIX9ma",
        "outputId": "5826517b-633d-4d98-9346-da01b65395fb"
      },
      "execution_count": 15,
      "outputs": [
        {
          "output_type": "stream",
          "name": "stdout",
          "text": [
            "word <PAD> index : 0\n",
            "word <UNK> index : 1\n",
            "word 'the' index : 2\n"
          ]
        }
      ]
    },
    {
      "cell_type": "markdown",
      "source": [
        "##(3) Encoding"
      ],
      "metadata": {
        "id": "pRTFN4pwYKWk"
      }
    },
    {
      "cell_type": "code",
      "source": [
        "def texts_to_sequences(tokenized_X_data, word_to_index):\n",
        "    encoded_X_data = []\n",
        "    for sent in tokenized_X_data:\n",
        "        index_sequences = []\n",
        "        for word in sent:\n",
        "            try:\n",
        "                index_sequences.append(word_to_index[word])\n",
        "            except KeyError:\n",
        "                index_sequences.append(word_to_index['<UNK>'])\n",
        "        encoded_X_data.append(index_sequences)\n",
        "\n",
        "    return encoded_X_data"
      ],
      "metadata": {
        "id": "QprY2zcjYGDy"
      },
      "execution_count": 16,
      "outputs": []
    },
    {
      "cell_type": "code",
      "source": [
        "encoded_X_train = texts_to_sequences(X_train, word_to_index)\n",
        "encoded_X_valid = texts_to_sequences(X_valid, word_to_index)\n",
        "encoded_X_test = texts_to_sequences(X_test, word_to_index)"
      ],
      "metadata": {
        "id": "mGVE-4koYlTa"
      },
      "execution_count": 17,
      "outputs": []
    },
    {
      "cell_type": "code",
      "source": [
        "for sent in encoded_X_train[:2]:\n",
        "    print(sent)"
      ],
      "metadata": {
        "colab": {
          "base_uri": "https://localhost:8080/"
        },
        "id": "dWOs5v2GYsAK",
        "outputId": "9ff54d04-935d-413c-edc6-73b5adf50538"
      },
      "execution_count": 18,
      "outputs": [
        {
          "output_type": "stream",
          "name": "stdout",
          "text": [
            "[1260, 3215, 117, 17, 21, 123, 56, 539, 23]\n",
            "[5456, 10, 8229, 9, 8230, 186, 84, 1815, 11, 8, 1073, 5, 421, 6, 8231, 35, 2043, 291, 790, 957, 267, 4]\n"
          ]
        }
      ]
    },
    {
      "cell_type": "code",
      "source": [
        "index_to_word = {}\n",
        "for key, value in word_to_index.items():\n",
        "    index_to_word[value] = key\n",
        "\n",
        "decoded_sample = [index_to_word[word] for word in encoded_X_train[0]]\n",
        "print('Original sample :', X_train[0])\n",
        "print('Decoded sample :', decoded_sample)"
      ],
      "metadata": {
        "colab": {
          "base_uri": "https://localhost:8080/"
        },
        "id": "XfeiNf8UYuYJ",
        "outputId": "f3ffb0b7-8060-46e6-8888-99f154b40f5c"
      },
      "execution_count": 19,
      "outputs": [
        {
          "output_type": "stream",
          "name": "stdout",
          "text": [
            "Original sample : ['young', 'boys', '9', '1', '0', '8', '6', '19', '3']\n",
            "Decoded sample : ['young', 'boys', '9', '1', '0', '8', '6', '19', '3']\n"
          ]
        }
      ]
    },
    {
      "cell_type": "code",
      "source": [
        "flatten_tags = [tag for sent in y_train for tag in sent]\n",
        "tag_vocab = list(set(flatten_tags))\n",
        "print('Tag set :', tag_vocab)\n",
        "print('Size of tag set :', len(tag_vocab))"
      ],
      "metadata": {
        "colab": {
          "base_uri": "https://localhost:8080/"
        },
        "id": "Sg3O9Hd_Y9mi",
        "outputId": "e0ec43ad-cbb4-49ed-faf5-8bd045131eb8"
      },
      "execution_count": 20,
      "outputs": [
        {
          "output_type": "stream",
          "name": "stdout",
          "text": [
            "Tag set : ['B-PER', 'I-MISC', 'O', 'B-LOC', 'I-ORG', 'I-PER', 'B-ORG', 'I-LOC', 'B-MISC']\n",
            "Size of tag set : 9\n"
          ]
        }
      ]
    },
    {
      "cell_type": "code",
      "source": [
        "tag_to_index = {}\n",
        "tag_to_index['<PAD>'] = 0\n",
        "\n",
        "for index, word in enumerate(tag_vocab):\n",
        "    tag_to_index[word] = index + 1\n",
        "\n",
        "tag_vocab_size = len(tag_to_index)\n",
        "print('Tag set :', tag_to_index)"
      ],
      "metadata": {
        "colab": {
          "base_uri": "https://localhost:8080/"
        },
        "id": "nvn0mi2KZb5a",
        "outputId": "633ef2fa-84eb-4cd8-83de-039147290d8c"
      },
      "execution_count": 21,
      "outputs": [
        {
          "output_type": "stream",
          "name": "stdout",
          "text": [
            "Tag set : {'<PAD>': 0, 'B-PER': 1, 'I-MISC': 2, 'O': 3, 'B-LOC': 4, 'I-ORG': 5, 'I-PER': 6, 'B-ORG': 7, 'I-LOC': 8, 'B-MISC': 9}\n"
          ]
        }
      ]
    },
    {
      "cell_type": "code",
      "source": [
        "def encoding_label(sequence, tag_to_index):\n",
        "    label_sequence = []\n",
        "    for seq in sequence:\n",
        "        label_sequence.append([tag_to_index[tag] for tag in seq])\n",
        "    return label_sequence"
      ],
      "metadata": {
        "id": "FG1jYk38ZoE6"
      },
      "execution_count": 22,
      "outputs": []
    },
    {
      "cell_type": "code",
      "source": [
        "encoded_y_train = texts_to_sequences(y_train, tag_to_index)\n",
        "encoded_y_valid = texts_to_sequences(y_valid, tag_to_index)\n",
        "encoded_y_test = texts_to_sequences(y_test, tag_to_index)"
      ],
      "metadata": {
        "id": "1laXyZ9oVZO6"
      },
      "execution_count": 23,
      "outputs": []
    },
    {
      "cell_type": "code",
      "source": [
        "print('X data')\n",
        "print(encoded_X_train[:2])\n",
        "print('-' * 49)\n",
        "print('y data')\n",
        "print(encoded_y_train[:2])\n",
        "print('-' * 49)\n",
        "print('First sample & label length')\n",
        "print(len(encoded_X_train[0]))\n",
        "print(len(encoded_y_train[0]))"
      ],
      "metadata": {
        "colab": {
          "base_uri": "https://localhost:8080/"
        },
        "id": "5kVtbV9naN0x",
        "outputId": "c0411d75-d5fb-4900-f731-8282e5d7781e"
      },
      "execution_count": 24,
      "outputs": [
        {
          "output_type": "stream",
          "name": "stdout",
          "text": [
            "X data\n",
            "[[1260, 3215, 117, 17, 21, 123, 56, 539, 23], [5456, 10, 8229, 9, 8230, 186, 84, 1815, 11, 8, 1073, 5, 421, 6, 8231, 35, 2043, 291, 790, 957, 267, 4]]\n",
            "-------------------------------------------------\n",
            "y data\n",
            "[[7, 5, 3, 3, 3, 3, 3, 3, 3], [1, 3, 3, 3, 3, 3, 3, 3, 3, 3, 3, 3, 3, 3, 3, 3, 3, 3, 3, 3, 3, 3]]\n",
            "-------------------------------------------------\n",
            "First sample & label length\n",
            "9\n",
            "9\n"
          ]
        }
      ]
    },
    {
      "cell_type": "markdown",
      "source": [
        "##(4) Padding"
      ],
      "metadata": {
        "id": "wyeUX1sHah-h"
      }
    },
    {
      "cell_type": "code",
      "source": [
        "print('Max length of samples : %d' % max(len(l) for l in encoded_X_train))\n",
        "print('Average length of samples : %f' % (sum(map(len, encoded_X_train)) / len(encoded_X_train)))\n",
        "\n",
        "plt.hist([len(s) for s in encoded_X_train], bins=50)\n",
        "plt.xlabel('length of samples')\n",
        "plt.ylabel('number of samples')\n",
        "plt.show()"
      ],
      "metadata": {
        "colab": {
          "base_uri": "https://localhost:8080/",
          "height": 484
        },
        "id": "YwGVo8f9ad0S",
        "outputId": "27b6336e-2866-4653-e60e-ed0a821556a1"
      },
      "execution_count": 25,
      "outputs": [
        {
          "output_type": "stream",
          "name": "stdout",
          "text": [
            "Max length of samples : 78\n",
            "Average length of samples : 14.518420\n"
          ]
        },
        {
          "output_type": "display_data",
          "data": {
            "text/plain": [
              "<Figure size 640x480 with 1 Axes>"
            ],
            "image/png": "[encoded data removed]"
          },
          "metadata": {}
        }
      ]
    },
    {
      "cell_type": "code",
      "source": [
        "def below_threshold_len(max_len, nested_list):\n",
        "    count = 0\n",
        "    for sentence in nested_list:\n",
        "        if (len(sentence) <= max_len):\n",
        "            count += 1\n",
        "    print('Ratio of samples length below %s : %s' %(max_len, (count / len(nested_list) * 100)))"
      ],
      "metadata": {
        "id": "6EJgZq_aa4dq"
      },
      "execution_count": 26,
      "outputs": []
    },
    {
      "cell_type": "code",
      "source": [
        "max_len = 80\n",
        "below_threshold_len(max_len, encoded_X_train)"
      ],
      "metadata": {
        "colab": {
          "base_uri": "https://localhost:8080/"
        },
        "id": "sZ-3h0pUbLgx",
        "outputId": "13fc79d2-1527-4e3d-b04a-e205491f143e"
      },
      "execution_count": 27,
      "outputs": [
        {
          "output_type": "stream",
          "name": "stdout",
          "text": [
            "Ratio of samples length below 80 : 100.0\n"
          ]
        }
      ]
    },
    {
      "cell_type": "code",
      "source": [
        "def pad_sequences(sentences, max_len):\n",
        "    features = np.zeros((len(sentences), max_len), dtype=int)\n",
        "    for index, sentence in enumerate(sentences):\n",
        "        if len(sentence) != 0:\n",
        "            features[index, :len(sentence)] = np.array(sentence)[:max_len]\n",
        "    return features"
      ],
      "metadata": {
        "id": "03e2GJT_bO54"
      },
      "execution_count": 28,
      "outputs": []
    },
    {
      "cell_type": "code",
      "source": [
        "padded_X_train = pad_sequences(encoded_X_train, max_len=max_len)\n",
        "padded_X_valid = pad_sequences(encoded_X_valid, max_len=max_len)\n",
        "padded_X_test = pad_sequences(encoded_X_test, max_len=max_len)\n",
        "\n",
        "padded_y_train = pad_sequences(encoded_y_train, max_len=max_len)\n",
        "padded_y_valid = pad_sequences(encoded_y_valid, max_len=max_len)\n",
        "padded_y_test = pad_sequences(encoded_y_test, max_len=max_len)\n",
        "\n",
        "print('Train data size :', padded_X_train.shape)\n",
        "print('Valid data size :', padded_X_valid.shape)\n",
        "print('Test data size :', padded_X_test.shape)\n",
        "print('-' * 30)\n",
        "print('Train label size :', padded_y_train.shape)\n",
        "print('Valid label size :', padded_y_valid.shape)\n",
        "print('Test label size :', padded_y_test.shape)"
      ],
      "metadata": {
        "colab": {
          "base_uri": "https://localhost:8080/"
        },
        "id": "2j3Ybhx0bcoC",
        "outputId": "b49b0c0b-cbf6-4f5a-a199-c835549429bc"
      },
      "execution_count": 29,
      "outputs": [
        {
          "output_type": "stream",
          "name": "stdout",
          "text": [
            "Train data size : (8985, 80)\n",
            "Valid data size : (2247, 80)\n",
            "Test data size : (2809, 80)\n",
            "------------------------------\n",
            "Train label size : (8985, 80)\n",
            "Valid label size : (2247, 80)\n",
            "Test label size : (2809, 80)\n"
          ]
        }
      ]
    },
    {
      "cell_type": "code",
      "source": [
        "print('Train data samples')\n",
        "print(padded_X_train[:2])\n",
        "print('-' * 11 + ' Label ' + '-' * 11)\n",
        "print(padded_y_train[:2])"
      ],
      "metadata": {
        "colab": {
          "base_uri": "https://localhost:8080/"
        },
        "id": "26eTTFBDb9zC",
        "outputId": "3fa7804b-3ead-425f-828d-43e6d464b6eb"
      },
      "execution_count": 30,
      "outputs": [
        {
          "output_type": "stream",
          "name": "stdout",
          "text": [
            "Train data samples\n",
            "[[1260 3215  117   17   21  123   56  539   23    0    0    0    0    0\n",
            "     0    0    0    0    0    0    0    0    0    0    0    0    0    0\n",
            "     0    0    0    0    0    0    0    0    0    0    0    0    0    0\n",
            "     0    0    0    0    0    0    0    0    0    0    0    0    0    0\n",
            "     0    0    0    0    0    0    0    0    0    0    0    0    0    0\n",
            "     0    0    0    0    0    0    0    0    0    0]\n",
            " [5456   10 8229    9 8230  186   84 1815   11    8 1073    5  421    6\n",
            "  8231   35 2043  291  790  957  267    4    0    0    0    0    0    0\n",
            "     0    0    0    0    0    0    0    0    0    0    0    0    0    0\n",
            "     0    0    0    0    0    0    0    0    0    0    0    0    0    0\n",
            "     0    0    0    0    0    0    0    0    0    0    0    0    0    0\n",
            "     0    0    0    0    0    0    0    0    0    0]]\n",
            "----------- Label -----------\n",
            "[[7 5 3 3 3 3 3 3 3 0 0 0 0 0 0 0 0 0 0 0 0 0 0 0 0 0 0 0 0 0 0 0 0 0 0 0\n",
            "  0 0 0 0 0 0 0 0 0 0 0 0 0 0 0 0 0 0 0 0 0 0 0 0 0 0 0 0 0 0 0 0 0 0 0 0\n",
            "  0 0 0 0 0 0 0 0]\n",
            " [1 3 3 3 3 3 3 3 3 3 3 3 3 3 3 3 3 3 3 3 3 3 0 0 0 0 0 0 0 0 0 0 0 0 0 0\n",
            "  0 0 0 0 0 0 0 0 0 0 0 0 0 0 0 0 0 0 0 0 0 0 0 0 0 0 0 0 0 0 0 0 0 0 0 0\n",
            "  0 0 0 0 0 0 0 0]]\n"
          ]
        }
      ]
    },
    {
      "cell_type": "markdown",
      "source": [
        "## (5) Modeling"
      ],
      "metadata": {
        "id": "Lr7wNLOIcK_g"
      }
    },
    {
      "cell_type": "code",
      "source": [
        "import torch\n",
        "import torch.nn as nn\n",
        "import torch.optim as optim\n",
        "import torch.nn.functional as F"
      ],
      "metadata": {
        "id": "qd8bAJpucIvq"
      },
      "execution_count": 31,
      "outputs": []
    },
    {
      "cell_type": "code",
      "source": [
        "device = \"cuda\" if torch.cuda.is_available() else \"cpu\"\n",
        "print(device)"
      ],
      "metadata": {
        "colab": {
          "base_uri": "https://localhost:8080/"
        },
        "id": "_W74-X5mceWh",
        "outputId": "2bc5718f-2dc6-4a6b-9bb7-5be2e22239d5"
      },
      "execution_count": 32,
      "outputs": [
        {
          "output_type": "stream",
          "name": "stdout",
          "text": [
            "cuda\n"
          ]
        }
      ]
    },
    {
      "cell_type": "code",
      "source": [
        "class NERTagger(nn.Module):\n",
        "    def __init__(self, vocab_size, embedding_dim, hidden_dim, output_dim, num_layers=2):\n",
        "        super(NERTagger, self).__init__()\n",
        "        self.embedding = nn.Embedding(vocab_size, embedding_dim)\n",
        "        self.lstm = nn.LSTM(embedding_dim, hidden_dim, num_layers=num_layers, batch_first=True, bidirectional=True)\n",
        "        self.fc = nn.Linear(hidden_dim*2, output_dim)\n",
        "\n",
        "    def forward(self, x):\n",
        "        # x: (batch_size, seq_length)\n",
        "        embedded = self.embedding(x) # (batch_size, seq_length, embedding_dim)\n",
        "        lstm_out, _ = self.lstm(embedded) # (batch_size, seq_length, hidden_dim*2)\n",
        "        logits = self.fc(lstm_out) # (batch_size, seq_length, output_dim)\n",
        "        return logits"
      ],
      "metadata": {
        "id": "MMklSgs-cjUy"
      },
      "execution_count": 33,
      "outputs": []
    },
    {
      "cell_type": "code",
      "source": [
        "X_train_tensor = torch.tensor(padded_X_train, dtype=torch.long)\n",
        "y_train_tensor = torch.tensor(padded_y_train, dtype=torch.long)\n",
        "X_valid_tensor = torch.tensor(padded_X_valid, dtype=torch.long)\n",
        "y_valid_tensor = torch.tensor(padded_y_valid, dtype=torch.long)\n",
        "X_test_tensor = torch.tensor(padded_X_test, dtype=torch.long)\n",
        "y_test_tensor = torch.tensor(padded_y_test, dtype=torch.long)\n",
        "\n",
        "train_dataset = torch.utils.data.TensorDataset(X_train_tensor, y_train_tensor)\n",
        "train_dataloader = torch.utils.data.DataLoader(train_dataset, shuffle=True, batch_size=32)\n",
        "valid_dataset = torch.utils.data.TensorDataset(X_valid_tensor, y_valid_tensor)\n",
        "valid_dataloader = torch.utils.data.DataLoader(valid_dataset, shuffle=False, batch_size=32)\n",
        "test_dataset = torch.utils.data.TensorDataset(X_test_tensor, y_test_tensor)\n",
        "test_dataloader = torch.utils.data.DataLoader(test_dataset, shuffle=False, batch_size=32)"
      ],
      "metadata": {
        "id": "HvZAdw_Xdce7"
      },
      "execution_count": 34,
      "outputs": []
    },
    {
      "cell_type": "code",
      "source": [
        "print('Vocabulary size :', vocab_size)"
      ],
      "metadata": {
        "colab": {
          "base_uri": "https://localhost:8080/"
        },
        "id": "JVLsgMJcd3Mx",
        "outputId": "77ff4f15-22e2-4565-daff-138b78f86de0"
      },
      "execution_count": 35,
      "outputs": [
        {
          "output_type": "stream",
          "name": "stdout",
          "text": [
            "Vocabulary size : 16744\n"
          ]
        }
      ]
    },
    {
      "cell_type": "code",
      "source": [
        "embedding_dim = 100\n",
        "hidden_dim = 256\n",
        "output_dim = tag_vocab_size\n",
        "learning_rate = 0.01\n",
        "num_epochs = 10\n",
        "num_layers = 2"
      ],
      "metadata": {
        "id": "XJ99pBeHd6VJ"
      },
      "execution_count": 36,
      "outputs": []
    },
    {
      "cell_type": "code",
      "source": [
        "# Model, loss, optimizer\n",
        "model = NERTagger(vocab_size, embedding_dim, hidden_dim, output_dim, num_layers)\n",
        "model.to(device)"
      ],
      "metadata": {
        "colab": {
          "base_uri": "https://localhost:8080/"
        },
        "id": "KdnOxe8deCNy",
        "outputId": "8072124d-7837-4f0c-b581-eeff2e69b81e"
      },
      "execution_count": 37,
      "outputs": [
        {
          "output_type": "execute_result",
          "data": {
            "text/plain": [
              "NERTagger(\n",
              "  (embedding): Embedding(16744, 100)\n",
              "  (lstm): LSTM(100, 256, num_layers=2, batch_first=True, bidirectional=True)\n",
              "  (fc): Linear(in_features=512, out_features=10, bias=True)\n",
              ")"
            ]
          },
          "metadata": {},
          "execution_count": 37
        }
      ]
    },
    {
      "cell_type": "code",
      "source": [
        "criterion = nn.CrossEntropyLoss(ignore_index=0)  # not calculating loss for padding token.\n",
        "optimizer = optim.Adam(model.parameters(), lr=learning_rate)"
      ],
      "metadata": {
        "id": "OeYxydckeH5J"
      },
      "execution_count": 38,
      "outputs": []
    },
    {
      "cell_type": "markdown",
      "source": [
        "##(6) Evaluation"
      ],
      "metadata": {
        "id": "Cq84YiCzeW2-"
      }
    },
    {
      "cell_type": "code",
      "source": [
        "def calculate_accuracy(logits, labels, ignore_index=0):\n",
        "    predicted = torch.argmax(logits, dim=1)\n",
        "\n",
        "    mask = (labels != ignore_index)\n",
        "\n",
        "    correct = (predicted == labels).masked_select(mask).sum().item()\n",
        "    total = mask.sum().item()\n",
        "\n",
        "    accuracy = correct / total\n",
        "    return accuracy"
      ],
      "metadata": {
        "id": "J-fC2yjueVcp"
      },
      "execution_count": 39,
      "outputs": []
    },
    {
      "cell_type": "code",
      "source": [
        "def evaluate(model, valid_dataloader, criterion, device):\n",
        "    val_loss = 0\n",
        "    val_correct = 0\n",
        "    val_total = 0\n",
        "\n",
        "    model.eval()\n",
        "    with torch.no_grad():\n",
        "        for batch_X, batch_y in valid_dataloader:\n",
        "            batch_X, batch_y = batch_X.to(device), batch_y.to(device)\n",
        "\n",
        "            logits = model(batch_X)\n",
        "            loss = criterion(logits.view(-1, output_dim), batch_y.view(-1))\n",
        "\n",
        "            val_loss += loss.item()\n",
        "            val_correct += calculate_accuracy(logits.view(-1, output_dim), batch_y.view(-1)) * batch_y.size(0)\n",
        "            val_total += batch_y.size(0)\n",
        "\n",
        "    val_accuracy = val_correct / val_total\n",
        "    val_loss /= len(valid_dataloader)\n",
        "\n",
        "    return val_loss, val_accuracy"
      ],
      "metadata": {
        "id": "7d_o12YMemeJ"
      },
      "execution_count": 40,
      "outputs": []
    },
    {
      "cell_type": "markdown",
      "source": [
        "##(7) Training"
      ],
      "metadata": {
        "id": "xzhcKE0afhja"
      }
    },
    {
      "cell_type": "code",
      "source": [
        "best_val_loss = float('inf')\n",
        "\n",
        "for epoch in range(num_epochs):\n",
        "    # Training\n",
        "    train_loss = 0\n",
        "    train_correct = 0\n",
        "    train_total = 0\n",
        "    model.train()\n",
        "    for batch_X, batch_y in train_dataloader:\n",
        "        batch_X, batch_y = batch_X.to(device), batch_y.to(device)\n",
        "        logits = model(batch_X)\n",
        "\n",
        "        loss = criterion(logits.view(-1, output_dim), batch_y.view(-1))\n",
        "\n",
        "        optimizer.zero_grad()\n",
        "        loss.backward()\n",
        "        optimizer.step()\n",
        "\n",
        "        train_loss += loss.item()\n",
        "        train_correct += calculate_accuracy(logits.view(-1, output_dim), batch_y.view(-1)) * batch_y.size(0)\n",
        "        train_total += batch_y.size(0)\n",
        "\n",
        "    train_accuracy = train_correct / train_total\n",
        "    train_loss /= len(train_dataloader)\n",
        "\n",
        "    # Validation\n",
        "    val_loss, val_accuracy = evaluate(model, valid_dataloader, criterion, device)\n",
        "\n",
        "    print(f'\\nEpoch {epoch+1} / {num_epochs}:')\n",
        "    print(f'Train Loss: {train_loss:.4f}, Train Accuracy: {train_accuracy:.4f}')\n",
        "    print(f'Validation Loss: {val_loss:.4f}, Validation Accuracy: {val_accuracy:.4f}')\n",
        "    print('-' * 99)\n",
        "\n",
        "    # Save checkpoint\n",
        "    if val_loss < best_val_loss:\n",
        "        print(f'\\nValidation loss improved from {best_val_loss:.4f} to {val_loss:.4f}. Saving checkpoint...')\n",
        "        best_val_loss = val_loss\n",
        "        torch.save(model.state_dict(), 'best_model_checkpoint.pth')\n",
        "        print('-' * 99)"
      ],
      "metadata": {
        "colab": {
          "base_uri": "https://localhost:8080/"
        },
        "id": "9tCnUYs0fhHo",
        "outputId": "a3bc12fa-2bde-47f8-c105-a2ed2fa9a04b"
      },
      "execution_count": 41,
      "outputs": [
        {
          "output_type": "stream",
          "name": "stdout",
          "text": [
            "\n",
            "Epoch 1 / 10:\n",
            "Train Loss: 0.3584, Train Accuracy: 0.9000\n",
            "Validation Loss: 0.2015, Validation Accuracy: 0.9424\n",
            "---------------------------------------------------------------------------------------------------\n",
            "\n",
            "Validation loss improved from inf to 0.2015. Saving checkpoint...\n",
            "---------------------------------------------------------------------------------------------------\n",
            "\n",
            "Epoch 2 / 10:\n",
            "Train Loss: 0.1115, Train Accuracy: 0.9672\n",
            "Validation Loss: 0.1674, Validation Accuracy: 0.9549\n",
            "---------------------------------------------------------------------------------------------------\n",
            "\n",
            "Validation loss improved from 0.2015 to 0.1674. Saving checkpoint...\n",
            "---------------------------------------------------------------------------------------------------\n",
            "\n",
            "Epoch 3 / 10:\n",
            "Train Loss: 0.0502, Train Accuracy: 0.9847\n",
            "Validation Loss: 0.1754, Validation Accuracy: 0.9557\n",
            "---------------------------------------------------------------------------------------------------\n",
            "\n",
            "Epoch 4 / 10:\n",
            "Train Loss: 0.0299, Train Accuracy: 0.9910\n",
            "Validation Loss: 0.1884, Validation Accuracy: 0.9550\n",
            "---------------------------------------------------------------------------------------------------\n",
            "\n",
            "Epoch 5 / 10:\n",
            "Train Loss: 0.0217, Train Accuracy: 0.9933\n",
            "Validation Loss: 0.2042, Validation Accuracy: 0.9543\n",
            "---------------------------------------------------------------------------------------------------\n",
            "\n",
            "Epoch 6 / 10:\n",
            "Train Loss: 0.0235, Train Accuracy: 0.9926\n",
            "Validation Loss: 0.2257, Validation Accuracy: 0.9533\n",
            "---------------------------------------------------------------------------------------------------\n",
            "\n",
            "Epoch 7 / 10:\n",
            "Train Loss: 0.0288, Train Accuracy: 0.9908\n",
            "Validation Loss: 0.2420, Validation Accuracy: 0.9522\n",
            "---------------------------------------------------------------------------------------------------\n",
            "\n",
            "Epoch 8 / 10:\n",
            "Train Loss: 0.0368, Train Accuracy: 0.9886\n",
            "Validation Loss: 0.2223, Validation Accuracy: 0.9516\n",
            "---------------------------------------------------------------------------------------------------\n",
            "\n",
            "Epoch 9 / 10:\n",
            "Train Loss: 0.0335, Train Accuracy: 0.9892\n",
            "Validation Loss: 0.2355, Validation Accuracy: 0.9545\n",
            "---------------------------------------------------------------------------------------------------\n",
            "\n",
            "Epoch 10 / 10:\n",
            "Train Loss: 0.0374, Train Accuracy: 0.9883\n",
            "Validation Loss: 0.2660, Validation Accuracy: 0.9472\n",
            "---------------------------------------------------------------------------------------------------\n"
          ]
        }
      ]
    },
    {
      "cell_type": "markdown",
      "source": [
        "##(8) Model loading and evaluation"
      ],
      "metadata": {
        "id": "hohWkNoFgnG0"
      }
    },
    {
      "cell_type": "code",
      "source": [
        "model.load_state_dict(torch.load('best_model_checkpoint.pth'))\n",
        "model.to(device)\n",
        "\n",
        "val_loss, val_accuracy = evaluate(model, valid_dataloader, criterion, device)\n",
        "\n",
        "print(f'Best model validation loss: {val_loss:.4f}')\n",
        "print(f'Best model validation accuracy: {val_accuracy:.4f}')\n",
        "print()\n",
        "\n",
        "test_loss, test_accuracy = evaluate(model, test_dataloader, criterion, device)\n",
        "\n",
        "print(f'Best model test loss: {test_loss:.4f}')\n",
        "print(f'Best model test accuracy: {test_accuracy:.4f}')"
      ],
      "metadata": {
        "colab": {
          "base_uri": "https://localhost:8080/"
        },
        "id": "I6jji-lGgmOC",
        "outputId": "0d075f7c-14df-40c2-9b85-d48a3f7413f7"
      },
      "execution_count": 42,
      "outputs": [
        {
          "output_type": "stream",
          "name": "stdout",
          "text": [
            "Best model validation loss: 0.1674\n",
            "Best model validation accuracy: 0.9549\n",
            "\n",
            "Best model test loss: 0.1618\n",
            "Best model test accuracy: 0.9554\n"
          ]
        }
      ]
    },
    {
      "cell_type": "markdown",
      "source": [
        "##(9) Inference & Test"
      ],
      "metadata": {
        "id": "dvM7u7Z3g4EI"
      }
    },
    {
      "cell_type": "code",
      "source": [
        "index_to_tag  = {}\n",
        "for key, value in tag_to_index.items():\n",
        "    index_to_tag[value] = key\n",
        "\n",
        "def predict_labels(text, model, word_to_idx, index_to_tag, max_len=150):\n",
        "    tokens = text.split()\n",
        "\n",
        "    token_indices = [word_to_idx.get(token, 1) for token in tokens]\n",
        "\n",
        "    token_indices_padded = np.zeros(max_len, dtype=int)\n",
        "    token_indices_padded[:len(token_indices)] = token_indices[:max_len]\n",
        "\n",
        "    input_tensor = torch.tensor(token_indices_padded, dtype=torch.long).unsqueeze(0).to(device)\n",
        "\n",
        "    model.eval()\n",
        "    with torch.no_grad():\n",
        "        logits = model(input_tensor)\n",
        "\n",
        "    predicted_indices = torch.argmax(logits, dim=-1).squeeze(0).tolist()\n",
        "\n",
        "    predicted_indices_no_pad = predicted_indices[:len(tokens)]\n",
        "\n",
        "    predicted_tags = [index_to_tag[index] for index in predicted_indices_no_pad]\n",
        "\n",
        "    return predicted_tags"
      ],
      "metadata": {
        "id": "T65O02Qjg3r5"
      },
      "execution_count": 43,
      "outputs": []
    },
    {
      "cell_type": "code",
      "source": [
        "print(X_test[0])"
      ],
      "metadata": {
        "colab": {
          "base_uri": "https://localhost:8080/"
        },
        "id": "lGf1H2XDiDpp",
        "outputId": "4074aadd-2e6a-445a-a852-aae66f2fcead"
      },
      "execution_count": 44,
      "outputs": [
        {
          "output_type": "stream",
          "name": "stdout",
          "text": [
            "['feyenoord', 'rotterdam', 'suffered', 'an', 'early', 'shock', 'when', 'they', 'went', '1-0', 'down', 'after', 'four', 'minutes', 'against', 'de', 'graafschap', 'doetinchem', '.']\n"
          ]
        }
      ]
    },
    {
      "cell_type": "code",
      "source": [
        "sample = ' '.join(X_test[0])\n",
        "print(sample)"
      ],
      "metadata": {
        "colab": {
          "base_uri": "https://localhost:8080/"
        },
        "id": "5KzPqIuJiGeh",
        "outputId": "6cd81c32-8464-44ec-d932-e61bfba0a153"
      },
      "execution_count": 45,
      "outputs": [
        {
          "output_type": "stream",
          "name": "stdout",
          "text": [
            "feyenoord rotterdam suffered an early shock when they went 1-0 down after four minutes against de graafschap doetinchem .\n"
          ]
        }
      ]
    },
    {
      "cell_type": "code",
      "source": [
        "predicted_tags = predict_labels(sample, model, word_to_index, index_to_tag)\n",
        "print('Predict :', predicted_tags)\n",
        "print('True value :', y_test[0])"
      ],
      "metadata": {
        "colab": {
          "base_uri": "https://localhost:8080/"
        },
        "id": "-30D4_iciL-K",
        "outputId": "c9e9e52a-5b66-4be2-bdb3-575a08ef1b54"
      },
      "execution_count": 46,
      "outputs": [
        {
          "output_type": "stream",
          "name": "stdout",
          "text": [
            "Predict : ['B-ORG', 'I-ORG', 'O', 'O', 'O', 'O', 'O', 'O', 'O', 'O', 'O', 'O', 'O', 'O', 'O', 'B-PER', 'B-PER', 'B-LOC', 'O']\n",
            "True value : ['B-ORG', 'I-ORG', 'O', 'O', 'O', 'O', 'O', 'O', 'O', 'O', 'O', 'O', 'O', 'O', 'O', 'O', 'B-ORG', 'I-ORG', 'O']\n"
          ]
        }
      ]
    }
  ]
}